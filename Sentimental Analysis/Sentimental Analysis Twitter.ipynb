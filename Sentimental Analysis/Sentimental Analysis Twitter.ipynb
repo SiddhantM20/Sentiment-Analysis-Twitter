{
 "cells": [
  {
   "cell_type": "code",
   "execution_count": 5,
   "metadata": {},
   "outputs": [],
   "source": [
    "#IMPORTING LIBRARIES\r\n",
    "from textblob import TextBlob\r\n",
    "import sys,tweepy\r\n",
    "import matplotlib.pyplot as plt"
   ]
  },
  {
   "cell_type": "code",
   "execution_count": 6,
   "metadata": {},
   "outputs": [],
   "source": [
    "#FUNCTION TO CALCULATE PERCENTAGE\r\n",
    "def percentage(a, b):\r\n",
    "    return (float(a) / float(b))*100"
   ]
  },
  {
   "cell_type": "code",
   "execution_count": 7,
   "metadata": {},
   "outputs": [],
   "source": [
    "#FUNCTION TO PLOT PIE CHART\r\n",
    "def plotPieChart(positive,negative,neutral,searchTerm,noOfSearchTerms):\r\n",
    "    labels = ['Positive [' + str(positive) + '%]','Neutral [' + str(neutral) + '%]','Negative [' + str(negative) + '%]']\r\n",
    "    sizes = [positive,neutral,negative]\r\n",
    "    colors = ['red','blue','darkgreen']\r\n",
    "    patches, texts = plt.pie(sizes, colors=colors, startangle=90)\r\n",
    "    plt.legend(patches, labels, loc=\"best\")\r\n",
    "    plt.title('How people are reacting on ' + searchTerm + ' by analyzing ' + str(noOfSearchTerms) + ' Tweets.')\r\n",
    "    plt.axis('equal')\r\n",
    "    plt.tight_layout()\r\n",
    "    plt.show()"
   ]
  },
  {
   "cell_type": "code",
   "execution_count": 8,
   "metadata": {},
   "outputs": [
    {
     "name": "stdout",
     "output_type": "stream",
     "text": [
      "How people are reacting on ego by analyzing 5 tweets.\n",
      "\n",
      "General Report: \n",
      "Polarity Equals : 0.10333333333333335\n",
      "Positive\n",
      "\n",
      "Detailed Report: \n",
      "40.00% people thought it was positive\n",
      "20.00% people thought it was negative\n",
      "40.00% people thought it was neutral\n"
     ]
    },
    {
     "data": {
      "image/png": "[encoded data removed]",
      "text/plain": [
       "<Figure size 432x288 with 1 Axes>"
      ]
     },
     "metadata": {},
     "output_type": "display_data"
    }
   ],
   "source": [
    "#AUTHENTICATING\r\n",
    "consumerKey = 'XHZllKxVWpCaxCtcrDngODL4s'\r\n",
    "consumerSecret = 'VmUThxRaspQOxH9lPAJfxF4aZdHCje62vxR7APDGnvAMgtMNd4'\r\n",
    "accessToken = '1405919912724365314-ArZp2klgtvksnGKKInuI3XsqMUdMUY'\r\n",
    "accessTokenSecret = '0kxV6woT2sQnaIhRtMt5oyCi57aZAv4O7DhXJwzY4CemM'\r\n",
    "auth = tweepy.OAuthHandler(consumerKey, consumerSecret)\r\n",
    "auth.set_access_token(accessToken, accessTokenSecret)\r\n",
    "api = tweepy.API(auth)\r\n",
    "\r\n",
    "#INPUT FOR TERM TO BE SEARCHED\r\n",
    "searchTerm = input(\"Enter Keyword/Tag to search about: \")\r\n",
    "\r\n",
    "#HOW MANY TWEETS TO SEARCHED\r\n",
    "NoOfTerms = int(input(\"Enter how many tweets to search: \"))\r\n",
    "\r\n",
    "#SEARCHING FOR TWEETS\r\n",
    "tweets = tweepy.Cursor(api.search, q=searchTerm, lang = \"en\").items(NoOfTerms)\r\n",
    "\r\n",
    "#CREATING VARIABLES TO STORE INFORMATION\r\n",
    "polarity=0;\r\n",
    "positive=0;\r\n",
    "negative=0;\r\n",
    "neutral=0;\r\n",
    "\r\n",
    "#ITERATING THROUGH TWEETS FETCHED\r\n",
    "for tweet in tweets:\r\n",
    "    analysis = TextBlob(tweet.text)\r\n",
    "    polarity += analysis.sentiment.polarity\r\n",
    "    if (analysis.sentiment.polarity == 0): \r\n",
    "        neutral += 1\r\n",
    "    elif (analysis.sentiment.polarity >0.00):\r\n",
    "        positive += 1\r\n",
    "    elif (analysis.sentiment.polarity <0.00):\r\n",
    "        negative += 1\r\n",
    "\r\n",
    "#FINDING AVERAGE OF HOW PEOPLE ARE REACTING\r\n",
    "positive = percentage(positive, NoOfTerms)\r\n",
    "negative = percentage(negative, NoOfTerms)\r\n",
    "neutral = percentage(neutral, NoOfTerms)\r\n",
    "\r\n",
    "#FINDING AVERAGE REACTION\r\n",
    "polarity= polarity/NoOfTerms\r\n",
    "\r\n",
    "#FORMATING IT TO TWO DECIMAL PLACES\r\n",
    "positive=format(positive, '.2f')\r\n",
    "negative=format(negative, '.2f')\r\n",
    "neutral=format(neutral, '.2f')\r\n",
    "\r\n",
    "#PRINTS THE OVERALL RESULT\r\n",
    "print(\"How people are reacting on \" + searchTerm + \" by analyzing \" + str(NoOfTerms) + \" tweets.\")\r\n",
    "print()\r\n",
    "print(\"General Report: \")\r\n",
    "print(\"Polarity Equals : \"+str(polarity))\r\n",
    "\r\n",
    "if (polarity == 0.00):\r\n",
    "    print(\"Neutral\")\r\n",
    "elif (polarity > 0.00):\r\n",
    "    print(\"Positive\")\r\n",
    "elif (polarity < 0.00):\r\n",
    "    print(\"Negative\")\r\n",
    "\r\n",
    "print()\r\n",
    "\r\n",
    "#PRINTS THE PERCENTAGE OF POSITIVE,NEGATIVE AND NEUTRAL TWEETS\r\n",
    "print(\"Detailed Report: \")\r\n",
    "print(str(positive) + \"% people thought it was positive\")\r\n",
    "print(str(negative) + \"% people thought it was negative\")\r\n",
    "print(str(neutral) + \"% people thought it was neutral\")\r\n",
    "\r\n",
    "#CALLING plotpieChart FUNCTION\r\n",
    "plotPieChart(positive,negative,neutral,searchTerm,NoOfTerms)"
   ]
  }
 ],
 "metadata": {
  "interpreter": {
   "hash": "e5c0195a9eb13427930039250f853171723ae14b305db66aba257863bc3ff323"
  },
  "kernelspec": {
   "display_name": "Python 3.8.8 64-bit (conda)",
   "name": "python3"
  },
  "language_info": {
   "codemirror_mode": {
    "name": "ipython",
    "version": 3
   },
   "file_extension": ".py",
   "mimetype": "text/x-python",
   "name": "python",
   "nbconvert_exporter": "python",
   "pygments_lexer": "ipython3",
   "version": "3.8.8"
  },
  "orig_nbformat": 4
 },
 "nbformat": 4,
 "nbformat_minor": 2
}